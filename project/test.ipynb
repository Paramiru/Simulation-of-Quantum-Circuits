{
 "cells": [
  {
   "cell_type": "code",
   "execution_count": 7,
   "metadata": {},
   "outputs": [],
   "source": [
    "import numpy as np\n",
    "from cirq_random_test import main\n",
    "from algorithms import get_fourier_cf"
   ]
  },
  {
   "cell_type": "code",
   "execution_count": null,
   "metadata": {},
   "outputs": [],
   "source": [
    "fourier_coeff = main()"
   ]
  },
  {
   "cell_type": "code",
   "execution_count": 17,
   "metadata": {},
   "outputs": [
    {
     "name": "stdout",
     "output_type": "stream",
     "text": [
      "0.00034526698\n",
      "0.0003452669830012439\n"
     ]
    }
   ],
   "source": [
    "print(fourier_coeff[0])\n",
    "print(1/(2**11.5))"
   ]
  },
  {
   "cell_type": "code",
   "execution_count": 4,
   "metadata": {},
   "outputs": [
    {
     "name": "stdout",
     "output_type": "stream",
     "text": [
      "Bitstring: 00000000000000000000000\t Fourier coefficient: 0.9999979138374329\n",
      "Bitstring: 01000000000000000000000\t Fourier coefficient: -0.00046218931674957275\n",
      "Bitstring: 10000000000000000000000\t Fourier coefficient: -0.0004996657371520996\n",
      "Bitstring: 11000000000000000000000\t Fourier coefficient: -0.00014199316501617432\n",
      "p(00) = 0.9988940954208374\n",
      "p(01) = 1.000817894935608\n",
      "p(10) = 1.0001773834228516\n",
      "p(11) = 1.000817894935608\n"
     ]
    }
   ],
   "source": [
    "index00 = '00'+'0'*21\n",
    "index01 = '01'+'0'*21\n",
    "index10 = '10'+'0'*21\n",
    "index11 = '11'+ '0'*21\n",
    "\n",
    "print(f\"Bitstring: {index00}\\t Fourier coefficient: {fourier_coeff[int(index00,2)]}\")\n",
    "print(f\"Bitstring: {index01}\\t Fourier coefficient: {fourier_coeff[int(index01,2)]}\")\n",
    "print(f\"Bitstring: {index10}\\t Fourier coefficient: {fourier_coeff[int(index10,2)]}\")\n",
    "print(f\"Bitstring: {index11}\\t Fourier coefficient: {fourier_coeff[int(index11,2)]}\")\n",
    "\n",
    "print(f\"p(00) = {fourier_coeff[int(index00,2)] + fourier_coeff[int(index01,2)] + fourier_coeff[int(index10,2)] + fourier_coeff[int(index11,2)]}\")\n",
    "print(f\"p(01) = {fourier_coeff[int(index00,2)] - fourier_coeff[int(index01,2)] - fourier_coeff[int(index10,2)] + fourier_coeff[int(index11,2)]}\")\n",
    "print(f\"p(10) = {fourier_coeff[int(index00,2)] + fourier_coeff[int(index01,2)] - fourier_coeff[int(index10,2)] - fourier_coeff[int(index11,2)]}\")\n",
    "print(f\"p(11) = {fourier_coeff[int(index00,2)] - fourier_coeff[int(index01,2)] - fourier_coeff[int(index10,2)] + fourier_coeff[int(index11,2)]}\")"
   ]
  },
  {
   "cell_type": "code",
   "execution_count": 8,
   "metadata": {},
   "outputs": [
    {
     "name": "stdout",
     "output_type": "stream",
     "text": [
      "Probabilities:[0.1  0.02 0.3  0.08 0.01 0.2  0.1  0.19]\n",
      "Sum of probabilities equal to 1.0\n",
      "Fourier coefficients:\n",
      "[ 1.    0.02 -0.34 -0.24  0.    0.58 -0.18 -0.04]\n"
     ]
    }
   ],
   "source": [
    "probabilities = np.array([0.1,0.02,0.3,0.08,0.01,0.2,0.1,0.19])\n",
    "print(f\"Probabilities:{probabilities}\")\n",
    "print(f\"Sum of probabilities equal to {sum(probabilities)}\")\n",
    "fc = get_fourier_cf(probabilities)\n",
    "print(f\"Fourier coefficients:\\n{fc}\")"
   ]
  },
  {
   "cell_type": "code",
   "execution_count": 11,
   "metadata": {},
   "outputs": [
    {
     "data": {
      "text/plain": [
       "array([ 0.125 ,  0.0025, -0.0425, -0.03  ,  0.    ,  0.0725, -0.0225,\n",
       "       -0.005 ])"
      ]
     },
     "execution_count": 11,
     "metadata": {},
     "output_type": "execute_result"
    }
   ],
   "source": [
    "fc /= 2*np.sqrt(2) \n",
    "fc"
   ]
  },
  {
   "cell_type": "code",
   "execution_count": 9,
   "metadata": {},
   "outputs": [
    {
     "name": "stdout",
     "output_type": "stream",
     "text": [
      "P(0) is equal to 1.0\n",
      "P(1) is equal to 1.0\n",
      "Sum of P(0) and P(1) is equal to 2.0\n"
     ]
    }
   ],
   "source": [
    "# compute marginals with fourier coefficients\n",
    "p_0 = (fc[0] + fc[4]) # use 4 because in binary 0b100 = 4\n",
    "p_1 = (fc[0] - fc[4])\n",
    "print(f\"P(0) is equal to {p_0}\")\n",
    "print(f\"P(1) is equal to {p_1}\")\n",
    "print(f\"Sum of P(0) and P(1) is equal to {p_0 + p_1}\")"
   ]
  },
  {
   "cell_type": "code",
   "execution_count": 19,
   "metadata": {},
   "outputs": [
    {
     "name": "stdout",
     "output_type": "stream",
     "text": [
      "4194304\n"
     ]
    }
   ],
   "source": [
    "bitstrings = set()\n",
    "a = int('0' + '1'*22,2)\n",
    "for i in range(2**23):\n",
    "    bitstrings.add(i & a)\n",
    "print(len(bitstrings))"
   ]
  },
  {
   "cell_type": "code",
   "execution_count": 20,
   "metadata": {},
   "outputs": [
    {
     "name": "stdout",
     "output_type": "stream",
     "text": [
      "-0.2546746719096692\n"
     ]
    }
   ],
   "source": [
    "result = 0\n",
    "for el in bitstrings:\n",
    "    result += fourier_coeff[el]\n",
    "print(result)"
   ]
  }
 ],
 "metadata": {
  "interpreter": {
   "hash": "156d14edcdd879b247ea988074e0b3136aa1576e070a7f7287a37e0c35de52e8"
  },
  "kernelspec": {
   "display_name": "Python 3.9.7 64-bit ('quantum': conda)",
   "language": "python",
   "name": "python3"
  },
  "language_info": {
   "codemirror_mode": {
    "name": "ipython",
    "version": 3
   },
   "file_extension": ".py",
   "mimetype": "text/x-python",
   "name": "python",
   "nbconvert_exporter": "python",
   "pygments_lexer": "ipython3",
   "version": "3.9.7"
  },
  "orig_nbformat": 4
 },
 "nbformat": 4,
 "nbformat_minor": 2
}
